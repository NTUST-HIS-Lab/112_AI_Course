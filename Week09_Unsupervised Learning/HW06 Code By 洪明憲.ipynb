{
  "nbformat": 4,
  "nbformat_minor": 0,
  "metadata": {
    "colab": {
      "provenance": []
    },
    "kernelspec": {
      "name": "python3",
      "display_name": "Python 3"
    },
    "accelerator": "GPU"
  },
  "cells": [
    {
      "cell_type": "markdown",
      "source": [
        "# 修改模型\n"
      ],
      "metadata": {
        "id": "BYB375kzgM0v"
      }
    },
    {
      "cell_type": "markdown",
      "metadata": {
        "id": "r1_Q26m0LN2r"
      },
      "source": [
        "This is the tutorial of **Image Clustering**\n",
        "<br>\n",
        "If you want to skip the **training** phase, please refer to the **clustering** section directly.\n",
        "<br>\n",
        "**Training** required sections:  Prepare Training Data, Model, Training\n",
        "<br>\n",
        "**Clustering** required sections: Prepare Training Data, Model, Dimension Reduction & Clustering"
      ]
    },
    {
      "cell_type": "markdown",
      "metadata": {
        "id": "GUyppmxhsgJg"
      },
      "source": [
        "同學們也可以利用提供的wget指令下載訓練資料，並自行mount到雲端資料夾上，如作業一所示。這邊就不再贅述<br>\n",
        "作業的第一部分是要訓練一個autoencoder以抽取好的圖片表徵，第二部分則是將抽出來的表徵降維到二維，以便我們利用分群的方法獲得我們的答案<br>\n",
        "\n",
        "若有任何問題，歡迎來信至助教信箱 ntu-ml-2020spring-ta@googlegroups.com"
      ]
    },
    {
      "cell_type": "markdown",
      "metadata": {
        "id": "br18nlnhJ7cr"
      },
      "source": [
        "# Download Dataset"
      ]
    },
    {
      "cell_type": "code",
      "metadata": {
        "id": "Vjd8-9s3J6oE",
        "colab": {
          "base_uri": "https://localhost:8080/"
        },
        "outputId": "65978b00-2900-4d0a-ebfd-446f3480bffd"
      },
      "source": [
        "!gdown --id '1BZb2AqOHHaad7Mo82St1qTBaXo_xtcUc' --output trainX.npy\n",
        "!gdown --id '152NKCpj8S_zuIx3bQy0NN5oqpvBjdPIq' --output valX.npy\n",
        "!gdown --id '1_hRGsFtm5KEazUg2ZvPZcuNScGF-ANh4' --output valY.npy\n",
        "!mkdir checkpoints\n",
        "!ls"
      ],
      "execution_count": null,
      "outputs": [
        {
          "output_type": "stream",
          "name": "stdout",
          "text": [
            "/usr/local/lib/python3.10/dist-packages/gdown/cli.py:121: FutureWarning: Option `--id` was deprecated in version 4.3.1 and will be removed in 5.0. You don't need to pass it anymore to use a file ID.\n",
            "  warnings.warn(\n",
            "Downloading...\n",
            "From: https://drive.google.com/uc?id=1BZb2AqOHHaad7Mo82St1qTBaXo_xtcUc\n",
            "To: /content/trainX.npy\n",
            "100% 26.1M/26.1M [00:00<00:00, 97.7MB/s]\n",
            "/usr/local/lib/python3.10/dist-packages/gdown/cli.py:121: FutureWarning: Option `--id` was deprecated in version 4.3.1 and will be removed in 5.0. You don't need to pass it anymore to use a file ID.\n",
            "  warnings.warn(\n",
            "Downloading...\n",
            "From: https://drive.google.com/uc?id=152NKCpj8S_zuIx3bQy0NN5oqpvBjdPIq\n",
            "To: /content/valX.npy\n",
            "100% 1.54M/1.54M [00:00<00:00, 171MB/s]\n",
            "/usr/local/lib/python3.10/dist-packages/gdown/cli.py:121: FutureWarning: Option `--id` was deprecated in version 4.3.1 and will be removed in 5.0. You don't need to pass it anymore to use a file ID.\n",
            "  warnings.warn(\n",
            "Downloading...\n",
            "From: https://drive.google.com/uc?id=1_hRGsFtm5KEazUg2ZvPZcuNScGF-ANh4\n",
            "To: /content/valY.npy\n",
            "100% 4.13k/4.13k [00:00<00:00, 17.1MB/s]\n",
            "checkpoints  sample_data  trainX.npy  valX.npy\tvalY.npy\n"
          ]
        }
      ]
    },
    {
      "cell_type": "markdown",
      "metadata": {
        "id": "w8WjVvaONQ-m"
      },
      "source": [
        "# Prepare Training Data"
      ]
    },
    {
      "cell_type": "markdown",
      "metadata": {
        "id": "NrIsy5olK1sH"
      },
      "source": [
        "定義我們的 preprocess：將圖片的數值介於 0~255 的 int 線性轉為 -1～1 的 float。"
      ]
    },
    {
      "cell_type": "code",
      "metadata": {
        "id": "xXTyAnhzHzHP"
      },
      "source": [
        "import numpy as np\n",
        "\n",
        "def preprocess(image_list):\n",
        "    \"\"\" Normalize Image and Permute (N,H,W,C) to (N,C,H,W)\n",
        "    Args:\n",
        "      image_list: List of images (9000, 32, 32, 3)\n",
        "    Returns:\n",
        "      image_list: List of images (9000, 3, 32, 32)\n",
        "    \"\"\"\n",
        "    image_list = np.array(image_list)\n",
        "    image_list = np.transpose(image_list, (0, 3, 1, 2))\n",
        "    image_list = (image_list / 255.0) * 2 - 1\n",
        "    image_list = image_list.astype(np.float32)\n",
        "    return image_list"
      ],
      "execution_count": null,
      "outputs": []
    },
    {
      "cell_type": "code",
      "metadata": {
        "id": "qj_hairpGhLj"
      },
      "source": [
        "from torch.utils.data import Dataset\n",
        "\n",
        "class Image_Dataset(Dataset):\n",
        "    def __init__(self, image_list):\n",
        "        self.image_list = image_list\n",
        "    def __len__(self):\n",
        "        return len(self.image_list)\n",
        "    def __getitem__(self, idx):\n",
        "        images = self.image_list[idx]\n",
        "        return images"
      ],
      "execution_count": null,
      "outputs": []
    },
    {
      "cell_type": "markdown",
      "metadata": {
        "id": "8EvJPEeGLgt7"
      },
      "source": [
        "將訓練資料讀入，並且 preprocess。\n",
        "之後我們將 preprocess 完的訓練資料變成我們需要的 dataset。請同學不要使用 valX 和 valY 來訓練。"
      ]
    },
    {
      "cell_type": "code",
      "metadata": {
        "id": "G_tMv9S5oqn9"
      },
      "source": [
        "from torch.utils.data import DataLoader\n",
        "\n",
        "trainX = np.load('trainX.npy')\n",
        "trainX_preprocessed = preprocess(trainX)\n",
        "img_dataset = Image_Dataset(trainX_preprocessed)"
      ],
      "execution_count": null,
      "outputs": []
    },
    {
      "cell_type": "markdown",
      "metadata": {
        "id": "Z64cTA5jaNtg"
      },
      "source": [
        "# Some useful functions\n"
      ]
    },
    {
      "cell_type": "markdown",
      "metadata": {
        "id": "wCtxq6GSL4tq"
      },
      "source": [
        "這邊提供一些有用的 functions。\n",
        "一個是計算 model 參數量的（report 會用到），另一個是固定訓練的隨機種子（以便 reproduce）。"
      ]
    },
    {
      "cell_type": "code",
      "metadata": {
        "id": "KWJNJs-UaUFb"
      },
      "source": [
        "import random\n",
        "import torch\n",
        "\n",
        "def count_parameters(model, only_trainable=False):\n",
        "    if only_trainable:\n",
        "        return sum(p.numel() for p in model.parameters() if p.requires_grad)\n",
        "    else:\n",
        "        return sum(p.numel() for p in model.parameters())\n",
        "\n",
        "def same_seeds(seed):\n",
        "    torch.manual_seed(seed)\n",
        "    if torch.cuda.is_available():\n",
        "        torch.cuda.manual_seed(seed)\n",
        "        torch.cuda.manual_seed_all(seed)  # if you are using multi-GPU.\n",
        "    np.random.seed(seed)  # Numpy module.\n",
        "    random.seed(seed)  # Python random module.\n",
        "    torch.backends.cudnn.benchmark = False\n",
        "    torch.backends.cudnn.deterministic = True\n"
      ],
      "execution_count": null,
      "outputs": []
    },
    {
      "cell_type": "markdown",
      "metadata": {
        "id": "O_ZuRV_dNjhD"
      },
      "source": [
        "# Model"
      ]
    },
    {
      "cell_type": "markdown",
      "metadata": {
        "id": "0mxBEwGYMSjm"
      },
      "source": [
        "定義我們的 baseline autoeocoder。"
      ]
    },
    {
      "cell_type": "code",
      "metadata": {
        "id": "dci5VCIuQwvI"
      },
      "source": [
        "import torch.nn as nn\n",
        "\n",
        "class AE(nn.Module):\n",
        "    def __init__(self):\n",
        "        super(AE, self).__init__()\n",
        "\n",
        "        self.encoder = nn.Sequential(\n",
        "            nn.Conv2d(3, 64, 3, stride=1, padding=1), # 64x32x32\n",
        "            nn.BatchNorm2d(64),\n",
        "            nn.ReLU(True),\n",
        "            nn.Conv2d(64, 64, 3, stride=1, padding=1), # 64x32x32\n",
        "            nn.BatchNorm2d(64),\n",
        "            nn.ReLU(True),\n",
        "            nn.MaxPool2d(2), # 64x16x16\n",
        "            nn.Conv2d(64, 128, 3, stride=1, padding=1), # 128x16x16\n",
        "            nn.BatchNorm2d(128),\n",
        "            nn.ReLU(True),\n",
        "            nn.Conv2d(128, 128, 3, stride=1, padding=1), # 128x16x16\n",
        "            nn.BatchNorm2d(128),\n",
        "            nn.ReLU(True),\n",
        "            nn.MaxPool2d(2), # 128x8x8\n",
        "            nn.Conv2d(128, 256, 3, stride=1, padding=1), # 256x8x8\n",
        "            nn.BatchNorm2d(256),\n",
        "            nn.ReLU(True),\n",
        "            nn.Conv2d(256, 256, 3, stride=1, padding=1), # 256x8x8\n",
        "            nn.BatchNorm2d(256),\n",
        "            nn.ReLU(True),\n",
        "            nn.MaxPool2d(2), # 256x4x4\n",
        "        )\n",
        "\n",
        "        self.decoder = nn.Sequential(\n",
        "            nn.ConvTranspose2d(256, 128, 5, stride=1), # 128x8x8\n",
        "            nn.ReLU(True),\n",
        "            nn.ConvTranspose2d(128, 64, 9, stride=1), # 64x16x16\n",
        "            nn.ReLU(True),\n",
        "            nn.ConvTranspose2d(64, 3, 17, stride=1), # 3x32x32\n",
        "            nn.Tanh()\n",
        "        )\n",
        "\n",
        "    def forward(self, x):\n",
        "        x1 = self.encoder(x)\n",
        "        x  = self.decoder(x1)\n",
        "        return x1, x"
      ],
      "execution_count": null,
      "outputs": []
    },
    {
      "cell_type": "code",
      "metadata": {
        "id": "WbSy97kjQgEo",
        "colab": {
          "base_uri": "https://localhost:8080/"
        },
        "outputId": "0e74a917-62f9-4855-cfcf-c8e9a9c34f41"
      },
      "source": [
        "!nvidia-smi"
      ],
      "execution_count": null,
      "outputs": [
        {
          "output_type": "stream",
          "name": "stdout",
          "text": [
            "Tue Jun 20 05:38:15 2023       \n",
            "+-----------------------------------------------------------------------------+\n",
            "| NVIDIA-SMI 525.85.12    Driver Version: 525.85.12    CUDA Version: 12.0     |\n",
            "|-------------------------------+----------------------+----------------------+\n",
            "| GPU  Name        Persistence-M| Bus-Id        Disp.A | Volatile Uncorr. ECC |\n",
            "| Fan  Temp  Perf  Pwr:Usage/Cap|         Memory-Usage | GPU-Util  Compute M. |\n",
            "|                               |                      |               MIG M. |\n",
            "|===============================+======================+======================|\n",
            "|   0  Tesla T4            Off  | 00000000:00:04.0 Off |                    0 |\n",
            "| N/A   47C    P8     9W /  70W |      0MiB / 15360MiB |      0%      Default |\n",
            "|                               |                      |                  N/A |\n",
            "+-------------------------------+----------------------+----------------------+\n",
            "                                                                               \n",
            "+-----------------------------------------------------------------------------+\n",
            "| Processes:                                                                  |\n",
            "|  GPU   GI   CI        PID   Type   Process name                  GPU Memory |\n",
            "|        ID   ID                                                   Usage      |\n",
            "|=============================================================================|\n",
            "|  No running processes found                                                 |\n",
            "+-----------------------------------------------------------------------------+\n"
          ]
        }
      ]
    },
    {
      "cell_type": "markdown",
      "metadata": {
        "id": "mF_7fi7xM5Er"
      },
      "source": [
        "# Training"
      ]
    },
    {
      "cell_type": "markdown",
      "metadata": {
        "id": "p8Wr2tNYNgcP"
      },
      "source": [
        "這個部分就是主要的訓練階段。\n",
        "我們先將準備好的 dataset 當作參數餵給 dataloader。\n",
        "將 dataloader、model、loss criterion、optimizer 都準備好之後，就可以開始訓練。\n",
        "訓練完成後，我們會將 model 存下來。"
      ]
    },
    {
      "cell_type": "code",
      "metadata": {
        "id": "uKZ9rhK-2b76",
        "colab": {
          "base_uri": "https://localhost:8080/"
        },
        "outputId": "0bbff228-4c17-4116-d925-5e4564f7336b"
      },
      "source": [
        "import torch\n",
        "from torch import optim\n",
        "\n",
        "same_seeds(0)\n",
        "\n",
        "model = AE().cuda()\n",
        "criterion = nn.MSELoss()\n",
        "optimizer = torch.optim.Adam(model.parameters(), lr=1e-5, weight_decay=1e-5)\n",
        "\n",
        "model.train()\n",
        "n_epoch = 350\n",
        "\n",
        "# 準備 dataloader, model, loss criterion 和 optimizer\n",
        "img_dataloader = DataLoader(img_dataset, batch_size=64, shuffle=True)\n",
        "\n",
        "epoch_loss = 0\n",
        "\n",
        "# 主要的訓練過程\n",
        "for epoch in range(n_epoch):\n",
        "    epoch_loss = 0\n",
        "    for data in img_dataloader:\n",
        "        img = data\n",
        "        img = img.cuda()\n",
        "\n",
        "        output1, output = model(img)\n",
        "        loss = criterion(output, img)\n",
        "\n",
        "        optimizer.zero_grad()\n",
        "        loss.backward()\n",
        "        optimizer.step()\n",
        "        if (epoch+1) % 10 == 0:\n",
        "            torch.save(model.state_dict(), './checkpoints/checkpoint_{}.pth'.format(epoch+1))\n",
        "\n",
        "        epoch_loss += loss.item()\n",
        "\n",
        "    print('epoch [{}/{}], loss:{:.5f}'.format(epoch+1, n_epoch, epoch_loss))\n",
        "\n",
        "# 訓練完成後儲存 model\n",
        "torch.save(model.state_dict(), './checkpoints/last_checkpoint.pth')"
      ],
      "execution_count": null,
      "outputs": [
        {
          "output_type": "stream",
          "name": "stdout",
          "text": [
            "epoch [1/350], loss:27.57757\n",
            "epoch [2/350], loss:19.31471\n",
            "epoch [3/350], loss:15.51191\n",
            "epoch [4/350], loss:13.80599\n",
            "epoch [5/350], loss:12.87499\n",
            "epoch [6/350], loss:12.05985\n",
            "epoch [7/350], loss:11.50908\n",
            "epoch [8/350], loss:10.97280\n",
            "epoch [9/350], loss:10.61845\n",
            "epoch [10/350], loss:10.28356\n",
            "epoch [11/350], loss:9.95401\n",
            "epoch [12/350], loss:9.71328\n",
            "epoch [13/350], loss:9.39362\n",
            "epoch [14/350], loss:9.18922\n",
            "epoch [15/350], loss:9.02407\n",
            "epoch [16/350], loss:8.81929\n",
            "epoch [17/350], loss:8.68224\n",
            "epoch [18/350], loss:8.58770\n",
            "epoch [19/350], loss:8.38355\n",
            "epoch [20/350], loss:8.24234\n",
            "epoch [21/350], loss:8.19897\n",
            "epoch [22/350], loss:8.10333\n",
            "epoch [23/350], loss:7.90739\n",
            "epoch [24/350], loss:7.82742\n",
            "epoch [25/350], loss:7.68735\n",
            "epoch [26/350], loss:7.62701\n",
            "epoch [27/350], loss:7.51986\n",
            "epoch [28/350], loss:7.46556\n",
            "epoch [29/350], loss:7.33450\n",
            "epoch [30/350], loss:7.24387\n",
            "epoch [31/350], loss:7.18387\n",
            "epoch [32/350], loss:7.12602\n",
            "epoch [33/350], loss:7.01646\n",
            "epoch [34/350], loss:6.96299\n",
            "epoch [35/350], loss:6.93035\n",
            "epoch [36/350], loss:6.85388\n",
            "epoch [37/350], loss:6.76219\n",
            "epoch [38/350], loss:6.71572\n",
            "epoch [39/350], loss:6.66785\n",
            "epoch [40/350], loss:6.61682\n",
            "epoch [41/350], loss:6.58098\n",
            "epoch [42/350], loss:6.50860\n",
            "epoch [43/350], loss:6.43828\n",
            "epoch [44/350], loss:6.35507\n",
            "epoch [45/350], loss:6.29267\n",
            "epoch [46/350], loss:6.31813\n",
            "epoch [47/350], loss:6.24459\n",
            "epoch [48/350], loss:6.19859\n",
            "epoch [49/350], loss:6.10893\n",
            "epoch [50/350], loss:6.08662\n",
            "epoch [51/350], loss:6.07584\n",
            "epoch [52/350], loss:6.03724\n",
            "epoch [53/350], loss:5.95103\n",
            "epoch [54/350], loss:5.91059\n",
            "epoch [55/350], loss:5.86549\n",
            "epoch [56/350], loss:5.82835\n",
            "epoch [57/350], loss:5.77929\n",
            "epoch [58/350], loss:5.78213\n",
            "epoch [59/350], loss:5.75235\n",
            "epoch [60/350], loss:5.68449\n",
            "epoch [61/350], loss:5.65014\n",
            "epoch [62/350], loss:5.60224\n",
            "epoch [63/350], loss:5.60356\n",
            "epoch [64/350], loss:5.54987\n",
            "epoch [65/350], loss:5.53976\n",
            "epoch [66/350], loss:5.50721\n",
            "epoch [67/350], loss:5.42924\n",
            "epoch [68/350], loss:5.42147\n",
            "epoch [69/350], loss:5.37631\n",
            "epoch [70/350], loss:5.38237\n",
            "epoch [71/350], loss:5.30945\n",
            "epoch [72/350], loss:5.28292\n",
            "epoch [73/350], loss:5.25610\n",
            "epoch [74/350], loss:5.28888\n",
            "epoch [75/350], loss:5.18398\n",
            "epoch [76/350], loss:5.20618\n",
            "epoch [77/350], loss:5.14518\n",
            "epoch [78/350], loss:5.13246\n",
            "epoch [79/350], loss:5.08868\n",
            "epoch [80/350], loss:5.07607\n",
            "epoch [81/350], loss:5.02884\n",
            "epoch [82/350], loss:5.01204\n",
            "epoch [83/350], loss:4.98581\n",
            "epoch [84/350], loss:4.96161\n",
            "epoch [85/350], loss:4.96973\n",
            "epoch [86/350], loss:4.94376\n",
            "epoch [87/350], loss:4.87414\n",
            "epoch [88/350], loss:4.88093\n",
            "epoch [89/350], loss:4.87861\n",
            "epoch [90/350], loss:4.84121\n",
            "epoch [91/350], loss:4.82578\n",
            "epoch [92/350], loss:4.78624\n",
            "epoch [93/350], loss:4.76346\n",
            "epoch [94/350], loss:4.77099\n",
            "epoch [95/350], loss:4.71495\n",
            "epoch [96/350], loss:4.72770\n",
            "epoch [97/350], loss:4.66624\n",
            "epoch [98/350], loss:4.64217\n",
            "epoch [99/350], loss:4.69977\n",
            "epoch [100/350], loss:4.61961\n",
            "epoch [101/350], loss:4.58375\n",
            "epoch [102/350], loss:4.59055\n",
            "epoch [103/350], loss:4.56090\n",
            "epoch [104/350], loss:4.54362\n",
            "epoch [105/350], loss:4.49928\n",
            "epoch [106/350], loss:4.51194\n",
            "epoch [107/350], loss:4.49528\n",
            "epoch [108/350], loss:4.45556\n",
            "epoch [109/350], loss:4.47482\n",
            "epoch [110/350], loss:4.44965\n",
            "epoch [111/350], loss:4.44038\n",
            "epoch [112/350], loss:4.40729\n",
            "epoch [113/350], loss:4.39200\n",
            "epoch [114/350], loss:4.37621\n",
            "epoch [115/350], loss:4.34720\n",
            "epoch [116/350], loss:4.34221\n",
            "epoch [117/350], loss:4.35177\n",
            "epoch [118/350], loss:4.28205\n",
            "epoch [119/350], loss:4.27795\n",
            "epoch [120/350], loss:4.26748\n",
            "epoch [121/350], loss:4.25212\n",
            "epoch [122/350], loss:4.23617\n",
            "epoch [123/350], loss:4.23002\n",
            "epoch [124/350], loss:4.21143\n",
            "epoch [125/350], loss:4.19134\n",
            "epoch [126/350], loss:4.17286\n",
            "epoch [127/350], loss:4.17389\n",
            "epoch [128/350], loss:4.14863\n",
            "epoch [129/350], loss:4.14499\n",
            "epoch [130/350], loss:4.12063\n",
            "epoch [131/350], loss:4.11034\n",
            "epoch [132/350], loss:4.07249\n",
            "epoch [133/350], loss:4.08103\n",
            "epoch [134/350], loss:4.08175\n",
            "epoch [135/350], loss:4.04328\n",
            "epoch [136/350], loss:4.05976\n",
            "epoch [137/350], loss:4.01673\n",
            "epoch [138/350], loss:4.03761\n",
            "epoch [139/350], loss:3.98675\n",
            "epoch [140/350], loss:4.00281\n",
            "epoch [141/350], loss:3.98988\n",
            "epoch [142/350], loss:3.95621\n",
            "epoch [143/350], loss:3.96078\n",
            "epoch [144/350], loss:3.93455\n",
            "epoch [145/350], loss:3.91622\n",
            "epoch [146/350], loss:3.91773\n",
            "epoch [147/350], loss:3.90174\n",
            "epoch [148/350], loss:3.88366\n",
            "epoch [149/350], loss:3.88647\n",
            "epoch [150/350], loss:3.86757\n",
            "epoch [151/350], loss:3.86136\n",
            "epoch [152/350], loss:3.83729\n",
            "epoch [153/350], loss:3.83348\n",
            "epoch [154/350], loss:3.82694\n",
            "epoch [155/350], loss:3.82783\n",
            "epoch [156/350], loss:3.80335\n",
            "epoch [157/350], loss:3.78303\n",
            "epoch [158/350], loss:3.77276\n",
            "epoch [159/350], loss:3.77102\n",
            "epoch [160/350], loss:3.77699\n",
            "epoch [161/350], loss:3.76580\n",
            "epoch [162/350], loss:3.73663\n",
            "epoch [163/350], loss:3.72400\n",
            "epoch [164/350], loss:3.71452\n",
            "epoch [165/350], loss:3.69920\n",
            "epoch [166/350], loss:3.67963\n",
            "epoch [167/350], loss:3.69076\n",
            "epoch [168/350], loss:3.67169\n",
            "epoch [169/350], loss:3.68341\n",
            "epoch [170/350], loss:3.66577\n",
            "epoch [171/350], loss:3.66829\n",
            "epoch [172/350], loss:3.63731\n",
            "epoch [173/350], loss:3.64349\n",
            "epoch [174/350], loss:3.63322\n",
            "epoch [175/350], loss:3.59722\n",
            "epoch [176/350], loss:3.60076\n",
            "epoch [177/350], loss:3.61044\n",
            "epoch [178/350], loss:3.58570\n",
            "epoch [179/350], loss:3.57775\n",
            "epoch [180/350], loss:3.57061\n",
            "epoch [181/350], loss:3.55350\n",
            "epoch [182/350], loss:3.53880\n",
            "epoch [183/350], loss:3.55891\n",
            "epoch [184/350], loss:3.51968\n",
            "epoch [185/350], loss:3.51594\n",
            "epoch [186/350], loss:3.52139\n",
            "epoch [187/350], loss:3.51381\n",
            "epoch [188/350], loss:3.49878\n",
            "epoch [189/350], loss:3.49178\n",
            "epoch [190/350], loss:3.46904\n",
            "epoch [191/350], loss:3.46548\n",
            "epoch [192/350], loss:3.46354\n",
            "epoch [193/350], loss:3.45738\n",
            "epoch [194/350], loss:3.44556\n",
            "epoch [195/350], loss:3.44115\n",
            "epoch [196/350], loss:3.42708\n",
            "epoch [197/350], loss:3.42910\n",
            "epoch [198/350], loss:3.41419\n",
            "epoch [199/350], loss:3.42517\n",
            "epoch [200/350], loss:3.39681\n",
            "epoch [201/350], loss:3.40067\n",
            "epoch [202/350], loss:3.38466\n",
            "epoch [203/350], loss:3.37874\n",
            "epoch [204/350], loss:3.36583\n",
            "epoch [205/350], loss:3.36915\n",
            "epoch [206/350], loss:3.34808\n",
            "epoch [207/350], loss:3.34962\n",
            "epoch [208/350], loss:3.34819\n",
            "epoch [209/350], loss:3.34584\n",
            "epoch [210/350], loss:3.32243\n",
            "epoch [211/350], loss:3.33161\n",
            "epoch [212/350], loss:3.33397\n",
            "epoch [213/350], loss:3.30608\n",
            "epoch [214/350], loss:3.30074\n",
            "epoch [215/350], loss:3.30522\n",
            "epoch [216/350], loss:3.28237\n",
            "epoch [217/350], loss:3.28064\n",
            "epoch [218/350], loss:3.26560\n",
            "epoch [219/350], loss:3.27458\n",
            "epoch [220/350], loss:3.25768\n",
            "epoch [221/350], loss:3.23800\n",
            "epoch [222/350], loss:3.25528\n",
            "epoch [223/350], loss:3.23004\n",
            "epoch [224/350], loss:3.21725\n",
            "epoch [225/350], loss:3.23871\n",
            "epoch [226/350], loss:3.21291\n",
            "epoch [227/350], loss:3.22450\n",
            "epoch [228/350], loss:3.21520\n",
            "epoch [229/350], loss:3.19450\n",
            "epoch [230/350], loss:3.18608\n",
            "epoch [231/350], loss:3.17909\n",
            "epoch [232/350], loss:3.18421\n",
            "epoch [233/350], loss:3.19579\n",
            "epoch [234/350], loss:3.18171\n",
            "epoch [235/350], loss:3.15499\n",
            "epoch [236/350], loss:3.15089\n",
            "epoch [237/350], loss:3.13244\n",
            "epoch [238/350], loss:3.15200\n",
            "epoch [239/350], loss:3.14398\n",
            "epoch [240/350], loss:3.14047\n",
            "epoch [241/350], loss:3.12380\n",
            "epoch [242/350], loss:3.12769\n",
            "epoch [243/350], loss:3.12135\n",
            "epoch [244/350], loss:3.11882\n",
            "epoch [245/350], loss:3.12564\n",
            "epoch [246/350], loss:3.09458\n",
            "epoch [247/350], loss:3.10019\n",
            "epoch [248/350], loss:3.09750\n",
            "epoch [249/350], loss:3.07737\n",
            "epoch [250/350], loss:3.08636\n",
            "epoch [251/350], loss:3.08132\n",
            "epoch [252/350], loss:3.06180\n",
            "epoch [253/350], loss:3.06667\n",
            "epoch [254/350], loss:3.05658\n",
            "epoch [255/350], loss:3.04846\n",
            "epoch [256/350], loss:3.04770\n",
            "epoch [257/350], loss:3.05164\n",
            "epoch [258/350], loss:3.02955\n",
            "epoch [259/350], loss:3.02989\n",
            "epoch [260/350], loss:3.02370\n",
            "epoch [261/350], loss:3.02363\n",
            "epoch [262/350], loss:3.02271\n",
            "epoch [263/350], loss:3.01728\n",
            "epoch [264/350], loss:3.00547\n",
            "epoch [265/350], loss:3.00625\n",
            "epoch [266/350], loss:3.00377\n",
            "epoch [267/350], loss:2.97928\n",
            "epoch [268/350], loss:2.98185\n",
            "epoch [269/350], loss:2.97922\n",
            "epoch [270/350], loss:2.97540\n",
            "epoch [271/350], loss:2.95751\n",
            "epoch [272/350], loss:2.95664\n",
            "epoch [273/350], loss:2.97311\n",
            "epoch [274/350], loss:2.95270\n",
            "epoch [275/350], loss:2.95066\n",
            "epoch [276/350], loss:2.96830\n",
            "epoch [277/350], loss:2.94329\n",
            "epoch [278/350], loss:2.94625\n",
            "epoch [279/350], loss:2.92422\n",
            "epoch [280/350], loss:2.92440\n",
            "epoch [281/350], loss:2.90969\n",
            "epoch [282/350], loss:2.91817\n",
            "epoch [283/350], loss:2.89913\n",
            "epoch [284/350], loss:2.92708\n",
            "epoch [285/350], loss:2.90339\n",
            "epoch [286/350], loss:2.88714\n",
            "epoch [287/350], loss:2.88578\n",
            "epoch [288/350], loss:2.89930\n",
            "epoch [289/350], loss:2.87880\n",
            "epoch [290/350], loss:2.87167\n",
            "epoch [291/350], loss:2.89167\n",
            "epoch [292/350], loss:2.87546\n",
            "epoch [293/350], loss:2.87619\n",
            "epoch [294/350], loss:2.86424\n",
            "epoch [295/350], loss:2.85818\n",
            "epoch [296/350], loss:2.85188\n",
            "epoch [297/350], loss:2.85410\n",
            "epoch [298/350], loss:2.84647\n",
            "epoch [299/350], loss:2.83555\n",
            "epoch [300/350], loss:2.84196\n",
            "epoch [301/350], loss:2.84479\n",
            "epoch [302/350], loss:2.82065\n",
            "epoch [303/350], loss:2.83627\n",
            "epoch [304/350], loss:2.81072\n",
            "epoch [305/350], loss:2.82778\n",
            "epoch [306/350], loss:2.81659\n",
            "epoch [307/350], loss:2.81108\n",
            "epoch [308/350], loss:2.78648\n",
            "epoch [309/350], loss:2.78486\n",
            "epoch [310/350], loss:2.79629\n",
            "epoch [311/350], loss:2.80118\n",
            "epoch [312/350], loss:2.79373\n",
            "epoch [313/350], loss:2.79015\n",
            "epoch [314/350], loss:2.77498\n",
            "epoch [315/350], loss:2.77315\n",
            "epoch [316/350], loss:2.78317\n",
            "epoch [317/350], loss:2.78176\n",
            "epoch [318/350], loss:2.78253\n",
            "epoch [319/350], loss:2.77060\n",
            "epoch [320/350], loss:2.76435\n",
            "epoch [321/350], loss:2.74730\n",
            "epoch [322/350], loss:2.75098\n",
            "epoch [323/350], loss:2.75243\n",
            "epoch [324/350], loss:2.75099\n",
            "epoch [325/350], loss:2.73935\n",
            "epoch [326/350], loss:2.74863\n",
            "epoch [327/350], loss:2.73884\n",
            "epoch [328/350], loss:2.72898\n",
            "epoch [329/350], loss:2.72921\n",
            "epoch [330/350], loss:2.70776\n",
            "epoch [331/350], loss:2.71083\n",
            "epoch [332/350], loss:2.71976\n",
            "epoch [333/350], loss:2.70173\n",
            "epoch [334/350], loss:2.71008\n",
            "epoch [335/350], loss:2.71301\n",
            "epoch [336/350], loss:2.70879\n",
            "epoch [337/350], loss:2.69582\n",
            "epoch [338/350], loss:2.68198\n",
            "epoch [339/350], loss:2.68983\n",
            "epoch [340/350], loss:2.69582\n",
            "epoch [341/350], loss:2.67780\n",
            "epoch [342/350], loss:2.67301\n",
            "epoch [343/350], loss:2.68709\n",
            "epoch [344/350], loss:2.68214\n",
            "epoch [345/350], loss:2.66944\n",
            "epoch [346/350], loss:2.66625\n",
            "epoch [347/350], loss:2.66592\n",
            "epoch [348/350], loss:2.66480\n",
            "epoch [349/350], loss:2.65748\n",
            "epoch [350/350], loss:2.64855\n"
          ]
        }
      ]
    },
    {
      "cell_type": "markdown",
      "metadata": {
        "id": "HhU5gcRhlTE1"
      },
      "source": [
        "# Dimension Reduction & Clustering"
      ]
    },
    {
      "cell_type": "code",
      "metadata": {
        "id": "jrn7UhtLyB4n"
      },
      "source": [
        "import numpy as np\n",
        "\n",
        "def cal_acc(gt, pred):\n",
        "    \"\"\" Computes categorization accuracy of our task.\n",
        "    Args:\n",
        "      gt: Ground truth labels (9000, )\n",
        "      pred: Predicted labels (9000, )\n",
        "    Returns:\n",
        "      acc: Accuracy (0~1 scalar)\n",
        "    \"\"\"\n",
        "    # Calculate Correct predictions\n",
        "    correct = np.sum(gt == pred)\n",
        "    acc = correct / gt.shape[0]\n",
        "    # 因為是 binary unsupervised clustering，因此取 max(acc, 1-acc)\n",
        "    return max(acc, 1-acc)"
      ],
      "execution_count": null,
      "outputs": []
    },
    {
      "cell_type": "code",
      "metadata": {
        "id": "hl9skAvMOvSV"
      },
      "source": [
        "import matplotlib.pyplot as plt\n",
        "\n",
        "def plot_scatter(feat, label, savefig=None):\n",
        "    \"\"\" Plot Scatter Image.\n",
        "    Args:\n",
        "      feat: the (x, y) coordinate of clustering result, shape: (9000, 2)\n",
        "      label: ground truth label of image (0/1), shape: (9000,)\n",
        "    Returns:\n",
        "      None\n",
        "    \"\"\"\n",
        "    X = feat[:, 0]\n",
        "    Y = feat[:, 1]\n",
        "    plt.scatter(X, Y, c = label)\n",
        "    plt.legend(loc='best')\n",
        "    if savefig is not None:\n",
        "        plt.savefig(savefig)\n",
        "    plt.show()\n",
        "    return"
      ],
      "execution_count": null,
      "outputs": []
    },
    {
      "cell_type": "markdown",
      "metadata": {
        "id": "c0QvyGtKOp_p"
      },
      "source": [
        "接著我們使用訓練好的 model，來預測 testing data 的類別。\n",
        "\n",
        "由於 testing data 與 training data 一樣，因此我們使用同樣的 dataset 來實作 dataloader。與 training 不同的地方在於 shuffle 這個參數值在這邊是 False。\n",
        "\n",
        "準備好 model 與 dataloader，我們就可以進行預測了。\n",
        "\n",
        "我們只需要 encoder 的結果（latents），利用 latents 進行 clustering 之後，就可以分類了。"
      ]
    },
    {
      "cell_type": "code",
      "metadata": {
        "id": "DBnn6RlncV-j",
        "colab": {
          "base_uri": "https://localhost:8080/"
        },
        "outputId": "fe29b7e0-f59f-4038-e7e8-618631331d09"
      },
      "source": [
        "import torch\n",
        "from sklearn.decomposition import KernelPCA\n",
        "from sklearn.manifold import TSNE\n",
        "from sklearn.cluster import MiniBatchKMeans\n",
        "\n",
        "def inference(X, model, batch_size=256):\n",
        "    X = preprocess(X)\n",
        "    dataset = Image_Dataset(X)\n",
        "    dataloader = DataLoader(dataset, batch_size=batch_size, shuffle=False)\n",
        "    latents = []\n",
        "    for i, x in enumerate(dataloader):\n",
        "        x = torch.FloatTensor(x)\n",
        "        vec, img = model(x.cuda())\n",
        "        if i == 0:\n",
        "            latents = vec.view(img.size()[0], -1).cpu().detach().numpy()\n",
        "        else:\n",
        "            latents = np.concatenate((latents, vec.view(img.size()[0], -1).cpu().detach().numpy()), axis = 0)\n",
        "    print('Latents Shape:', latents.shape)\n",
        "    return latents\n",
        "\n",
        "def predict(latents):\n",
        "    # First Dimension Reduction\n",
        "    transformer = KernelPCA(n_components=200, kernel='rbf', n_jobs=-1)\n",
        "    kpca = transformer.fit_transform(latents)\n",
        "    print('First Reduction Shape:', kpca.shape)\n",
        "\n",
        "    # # Second Dimesnion Reduction\n",
        "    X_embedded = TSNE(n_components=2).fit_transform(kpca)\n",
        "    print('Second Reduction Shape:', X_embedded.shape)\n",
        "\n",
        "    # Clustering\n",
        "    pred = MiniBatchKMeans(n_clusters=2, random_state=0).fit(X_embedded)\n",
        "    pred = [int(i) for i in pred.labels_]\n",
        "    pred = np.array(pred)\n",
        "    return pred, X_embedded\n",
        "\n",
        "def invert(pred):\n",
        "    return np.abs(1-pred)\n",
        "\n",
        "def save_prediction(pred, out_csv='prediction.csv'):\n",
        "    with open(out_csv, 'w') as f:\n",
        "        f.write('id,label\\n')\n",
        "        for i, p in enumerate(pred):\n",
        "            f.write(f'{i},{p}\\n')\n",
        "    print(f'Save prediction to {out_csv}.')\n",
        "\n",
        "# load model\n",
        "model = AE().cuda()\n",
        "model.load_state_dict(torch.load('./checkpoints/last_checkpoint.pth'))\n",
        "model.eval()\n",
        "\n",
        "# 準備 data\n",
        "trainX = np.load('trainX.npy')\n",
        "\n",
        "# 預測答案\n",
        "latents = inference(X=trainX, model=model)\n",
        "pred, X_embedded = predict(latents)\n",
        "\n",
        "# 將預測結果存檔，上傳 kaggle\n",
        "save_prediction(pred, 'prediction.csv')\n",
        "\n",
        "# 由於是 unsupervised 的二分類問題，我們只在乎有沒有成功將圖片分成兩群\n",
        "# 如果上面的檔案上傳 kaggle 後正確率不足 0.5，只要將 label 反過來就行了\n",
        "save_prediction(invert(pred), 'prediction_invert.csv')"
      ],
      "execution_count": null,
      "outputs": [
        {
          "output_type": "stream",
          "name": "stdout",
          "text": [
            "Latents Shape: (8500, 4096)\n",
            "First Reduction Shape: (8500, 200)\n",
            "Second Reduction Shape: (8500, 2)\n",
            "Save prediction to prediction.csv.\n",
            "Save prediction to prediction_invert.csv.\n"
          ]
        },
        {
          "output_type": "stream",
          "name": "stderr",
          "text": [
            "/usr/local/lib/python3.10/dist-packages/sklearn/cluster/_kmeans.py:870: FutureWarning: The default value of `n_init` will change from 3 to 'auto' in 1.4. Set the value of `n_init` explicitly to suppress the warning\n",
            "  warnings.warn(\n"
          ]
        }
      ]
    },
    {
      "cell_type": "markdown",
      "metadata": {
        "id": "snHP0s9kciEn"
      },
      "source": [
        "Problem 1.b (作圖)\n",
        "===\n",
        "將 val data 的降維結果 (embedding) 與他們對應的 label 畫出來。"
      ]
    },
    {
      "cell_type": "code",
      "metadata": {
        "id": "iyNe4gUEcAhZ",
        "colab": {
          "base_uri": "https://localhost:8080/",
          "height": 589
        },
        "outputId": "1ac10040-0b65-49a3-9993-6adca2b38fc4"
      },
      "source": [
        "valX = np.load('valX.npy')\n",
        "valY = np.load('valY.npy')\n",
        "\n",
        "# ==============================================\n",
        "#  我們示範 basline model 的作圖，\n",
        "#  report 請同學另外還要再畫一張 improved model 的圖。\n",
        "# ==============================================\n",
        "model.load_state_dict(torch.load('./checkpoints/last_checkpoint.pth'))\n",
        "model.eval()\n",
        "latents = inference(valX, model)\n",
        "pred_from_latent, emb_from_latent = predict(latents)\n",
        "acc_latent = cal_acc(valY, pred_from_latent)\n",
        "print('The clustering accuracy is:', acc_latent)\n",
        "print('The clustering result:')\n",
        "plot_scatter(emb_from_latent, valY, savefig='p1_baseline.png')\n",
        "\n"
      ],
      "execution_count": null,
      "outputs": [
        {
          "output_type": "stream",
          "name": "stdout",
          "text": [
            "Latents Shape: (500, 4096)\n",
            "First Reduction Shape: (500, 200)\n"
          ]
        },
        {
          "output_type": "stream",
          "name": "stderr",
          "text": [
            "/usr/local/lib/python3.10/dist-packages/sklearn/cluster/_kmeans.py:870: FutureWarning: The default value of `n_init` will change from 3 to 'auto' in 1.4. Set the value of `n_init` explicitly to suppress the warning\n",
            "  warnings.warn(\n",
            "WARNING:matplotlib.legend:No artists with labels found to put in legend.  Note that artists whose label start with an underscore are ignored when legend() is called with no argument.\n"
          ]
        },
        {
          "output_type": "stream",
          "name": "stdout",
          "text": [
            "Second Reduction Shape: (500, 2)\n",
            "The clustering accuracy is: 0.774\n",
            "The clustering result:\n"
          ]
        },
        {
          "output_type": "display_data",
          "data": {
            "text/plain": [
              "<Figure size 640x480 with 1 Axes>"
            ],
            "image/png": "[encoded data removed]"
          },
          "metadata": {}
        }
      ]
    },
    {
      "cell_type": "markdown",
      "metadata": {
        "id": "vd10OPt5cOqi"
      },
      "source": [
        "Problem 2\n",
        "===\n",
        "使用你 test accuracy 最高的 autoencoder，從 trainX 中，取出 index 1, 2, 3, 6, 7, 9 這 6 張圖片\n",
        "畫出他們的原圖以及 reconstruct 之後的圖片。\n"
      ]
    },
    {
      "cell_type": "code",
      "metadata": {
        "id": "D1OYYPEqcCpl",
        "colab": {
          "base_uri": "https://localhost:8080/",
          "height": 364
        },
        "outputId": "d1ee529b-9491-476a-9a13-486ae743d437"
      },
      "source": [
        "import matplotlib.pyplot as plt\n",
        "import numpy as np\n",
        "\n",
        "# 畫出原圖\n",
        "plt.figure(figsize=(10,4))\n",
        "indexes = [1,2,3,6,7,9]\n",
        "imgs = trainX[indexes,]\n",
        "for i, img in enumerate(imgs):\n",
        "    plt.subplot(2, 6, i+1, xticks=[], yticks=[])\n",
        "    plt.imshow(img)\n",
        "\n",
        "# 畫出 reconstruct 的圖\n",
        "inp = torch.Tensor(trainX_preprocessed[indexes,]).cuda()\n",
        "latents, recs = model(inp)\n",
        "recs = ((recs+1)/2 ).cpu().detach().numpy()\n",
        "recs = recs.transpose(0, 2, 3, 1)\n",
        "for i, img in enumerate(recs):\n",
        "    plt.subplot(2, 6, 6+i+1, xticks=[], yticks=[])\n",
        "    plt.imshow(img)\n",
        "\n",
        "plt.tight_layout()"
      ],
      "execution_count": null,
      "outputs": [
        {
          "output_type": "display_data",
          "data": {
            "text/plain": [
              "<Figure size 1000x400 with 12 Axes>"
            ],
            "image/png": "[encoded data removed]"
          },
          "metadata": {}
        }
      ]
    },
    {
      "cell_type": "markdown",
      "metadata": {
        "id": "hNhjaEnOcdtR"
      },
      "source": [
        "Problem 3\n",
        "===\n",
        "在 autoencoder 的訓練過程中，至少挑選 10 個 checkpoints\n",
        "請用 model 的 train reconstruction error 對 val accuracy 作圖\n",
        "簡單說明你觀察到的現象\n"
      ]
    },
    {
      "cell_type": "code",
      "metadata": {
        "id": "IAc9Ha55cDOr",
        "colab": {
          "base_uri": "https://localhost:8080/"
        },
        "outputId": "ef4d7c83-aab0-4840-fab7-885f048443c1"
      },
      "source": [
        "import os\n",
        "import glob\n",
        "checkpoints_list = sorted(glob.glob('checkpoints/checkpoint_*.pth'), key= lambda x: int(os.path.splitext(os.path.basename(x))[0].split('_')[-1]))\n",
        "\n",
        "# load data\n",
        "dataset = Image_Dataset(trainX_preprocessed)\n",
        "dataloader = DataLoader(dataset, batch_size=64, shuffle=False)\n",
        "\n",
        "points = []\n",
        "with torch.no_grad():\n",
        "    for i, checkpoint in enumerate(checkpoints_list):\n",
        "        print('[{}/{}] {}'.format(i+1, len(checkpoints_list), checkpoint))\n",
        "        model.load_state_dict(torch.load(checkpoint))\n",
        "        model.eval()\n",
        "        err = 0\n",
        "        n = 0\n",
        "        for x in dataloader:\n",
        "            x = x.cuda()\n",
        "            _, rec = model(x)\n",
        "            err += torch.nn.MSELoss(reduction='sum')(x, rec).item()\n",
        "            n += x.flatten().size(0)\n",
        "        print('Reconstruction error (MSE):', err/n)\n",
        "        latents = inference(X=valX, model=model)\n",
        "        pred, X_embedded = predict(latents)\n",
        "        acc = cal_acc(valY, pred)\n",
        "        print('Accuracy:', acc)\n",
        "        points.append((err/n, acc))\n",
        "\n"
      ],
      "execution_count": null,
      "outputs": [
        {
          "output_type": "stream",
          "name": "stdout",
          "text": [
            "[1/35] checkpoints/checkpoint_10.pth\n",
            "Reconstruction error (MSE): 0.07547528824151731\n",
            "Latents Shape: (500, 4096)\n",
            "First Reduction Shape: (500, 200)\n",
            "Second Reduction Shape: (500, 2)\n",
            "Accuracy: 0.6839999999999999\n",
            "[2/35] checkpoints/checkpoint_20.pth\n"
          ]
        },
        {
          "output_type": "stream",
          "name": "stderr",
          "text": [
            "/usr/local/lib/python3.10/dist-packages/sklearn/cluster/_kmeans.py:870: FutureWarning: The default value of `n_init` will change from 3 to 'auto' in 1.4. Set the value of `n_init` explicitly to suppress the warning\n",
            "  warnings.warn(\n"
          ]
        },
        {
          "output_type": "stream",
          "name": "stdout",
          "text": [
            "Reconstruction error (MSE): 0.059795343174653896\n",
            "Latents Shape: (500, 4096)\n",
            "First Reduction Shape: (500, 200)\n",
            "Second Reduction Shape: (500, 2)\n",
            "Accuracy: 0.748\n",
            "[3/35] checkpoints/checkpoint_30.pth\n"
          ]
        },
        {
          "output_type": "stream",
          "name": "stderr",
          "text": [
            "/usr/local/lib/python3.10/dist-packages/sklearn/cluster/_kmeans.py:870: FutureWarning: The default value of `n_init` will change from 3 to 'auto' in 1.4. Set the value of `n_init` explicitly to suppress the warning\n",
            "  warnings.warn(\n"
          ]
        },
        {
          "output_type": "stream",
          "name": "stdout",
          "text": [
            "Reconstruction error (MSE): 0.05239189548118442\n",
            "Latents Shape: (500, 4096)\n",
            "First Reduction Shape: (500, 200)\n",
            "Second Reduction Shape: (500, 2)\n",
            "Accuracy: 0.754\n",
            "[4/35] checkpoints/checkpoint_40.pth\n"
          ]
        },
        {
          "output_type": "stream",
          "name": "stderr",
          "text": [
            "/usr/local/lib/python3.10/dist-packages/sklearn/cluster/_kmeans.py:870: FutureWarning: The default value of `n_init` will change from 3 to 'auto' in 1.4. Set the value of `n_init` explicitly to suppress the warning\n",
            "  warnings.warn(\n"
          ]
        },
        {
          "output_type": "stream",
          "name": "stdout",
          "text": [
            "Reconstruction error (MSE): 0.0487668924331665\n",
            "Latents Shape: (500, 4096)\n",
            "First Reduction Shape: (500, 200)\n",
            "Second Reduction Shape: (500, 2)\n",
            "Accuracy: 0.716\n",
            "[5/35] checkpoints/checkpoint_50.pth\n"
          ]
        },
        {
          "output_type": "stream",
          "name": "stderr",
          "text": [
            "/usr/local/lib/python3.10/dist-packages/sklearn/cluster/_kmeans.py:870: FutureWarning: The default value of `n_init` will change from 3 to 'auto' in 1.4. Set the value of `n_init` explicitly to suppress the warning\n",
            "  warnings.warn(\n"
          ]
        },
        {
          "output_type": "stream",
          "name": "stdout",
          "text": [
            "Reconstruction error (MSE): 0.04389941582025266\n",
            "Latents Shape: (500, 4096)\n",
            "First Reduction Shape: (500, 200)\n",
            "Second Reduction Shape: (500, 2)\n",
            "Accuracy: 0.71\n",
            "[6/35] checkpoints/checkpoint_60.pth\n"
          ]
        },
        {
          "output_type": "stream",
          "name": "stderr",
          "text": [
            "/usr/local/lib/python3.10/dist-packages/sklearn/cluster/_kmeans.py:870: FutureWarning: The default value of `n_init` will change from 3 to 'auto' in 1.4. Set the value of `n_init` explicitly to suppress the warning\n",
            "  warnings.warn(\n"
          ]
        },
        {
          "output_type": "stream",
          "name": "stdout",
          "text": [
            "Reconstruction error (MSE): 0.04089648598315669\n",
            "Latents Shape: (500, 4096)\n",
            "First Reduction Shape: (500, 200)\n",
            "Second Reduction Shape: (500, 2)\n",
            "Accuracy: 0.708\n",
            "[7/35] checkpoints/checkpoint_70.pth\n"
          ]
        },
        {
          "output_type": "stream",
          "name": "stderr",
          "text": [
            "/usr/local/lib/python3.10/dist-packages/sklearn/cluster/_kmeans.py:870: FutureWarning: The default value of `n_init` will change from 3 to 'auto' in 1.4. Set the value of `n_init` explicitly to suppress the warning\n",
            "  warnings.warn(\n"
          ]
        },
        {
          "output_type": "stream",
          "name": "stdout",
          "text": [
            "Reconstruction error (MSE): 0.03846817306443757\n",
            "Latents Shape: (500, 4096)\n",
            "First Reduction Shape: (500, 200)\n",
            "Second Reduction Shape: (500, 2)\n",
            "Accuracy: 0.752\n",
            "[8/35] checkpoints/checkpoint_80.pth\n"
          ]
        },
        {
          "output_type": "stream",
          "name": "stderr",
          "text": [
            "/usr/local/lib/python3.10/dist-packages/sklearn/cluster/_kmeans.py:870: FutureWarning: The default value of `n_init` will change from 3 to 'auto' in 1.4. Set the value of `n_init` explicitly to suppress the warning\n",
            "  warnings.warn(\n"
          ]
        },
        {
          "output_type": "stream",
          "name": "stdout",
          "text": [
            "Reconstruction error (MSE): 0.036623703694811056\n",
            "Latents Shape: (500, 4096)\n",
            "First Reduction Shape: (500, 200)\n",
            "Second Reduction Shape: (500, 2)\n",
            "Accuracy: 0.758\n",
            "[9/35] checkpoints/checkpoint_90.pth\n"
          ]
        },
        {
          "output_type": "stream",
          "name": "stderr",
          "text": [
            "/usr/local/lib/python3.10/dist-packages/sklearn/cluster/_kmeans.py:870: FutureWarning: The default value of `n_init` will change from 3 to 'auto' in 1.4. Set the value of `n_init` explicitly to suppress the warning\n",
            "  warnings.warn(\n"
          ]
        },
        {
          "output_type": "stream",
          "name": "stdout",
          "text": [
            "Reconstruction error (MSE): 0.03536764898487166\n",
            "Latents Shape: (500, 4096)\n",
            "First Reduction Shape: (500, 200)\n",
            "Second Reduction Shape: (500, 2)\n",
            "Accuracy: 0.714\n",
            "[10/35] checkpoints/checkpoint_100.pth\n"
          ]
        },
        {
          "output_type": "stream",
          "name": "stderr",
          "text": [
            "/usr/local/lib/python3.10/dist-packages/sklearn/cluster/_kmeans.py:870: FutureWarning: The default value of `n_init` will change from 3 to 'auto' in 1.4. Set the value of `n_init` explicitly to suppress the warning\n",
            "  warnings.warn(\n"
          ]
        },
        {
          "output_type": "stream",
          "name": "stdout",
          "text": [
            "Reconstruction error (MSE): 0.033409233934739054\n",
            "Latents Shape: (500, 4096)\n",
            "First Reduction Shape: (500, 200)\n",
            "Second Reduction Shape: (500, 2)\n",
            "Accuracy: 0.726\n",
            "[11/35] checkpoints/checkpoint_110.pth\n"
          ]
        },
        {
          "output_type": "stream",
          "name": "stderr",
          "text": [
            "/usr/local/lib/python3.10/dist-packages/sklearn/cluster/_kmeans.py:870: FutureWarning: The default value of `n_init` will change from 3 to 'auto' in 1.4. Set the value of `n_init` explicitly to suppress the warning\n",
            "  warnings.warn(\n"
          ]
        },
        {
          "output_type": "stream",
          "name": "stdout",
          "text": [
            "Reconstruction error (MSE): 0.03340402298347623\n",
            "Latents Shape: (500, 4096)\n",
            "First Reduction Shape: (500, 200)\n",
            "Second Reduction Shape: (500, 2)\n",
            "Accuracy: 0.73\n",
            "[12/35] checkpoints/checkpoint_120.pth\n"
          ]
        },
        {
          "output_type": "stream",
          "name": "stderr",
          "text": [
            "/usr/local/lib/python3.10/dist-packages/sklearn/cluster/_kmeans.py:870: FutureWarning: The default value of `n_init` will change from 3 to 'auto' in 1.4. Set the value of `n_init` explicitly to suppress the warning\n",
            "  warnings.warn(\n"
          ]
        },
        {
          "output_type": "stream",
          "name": "stdout",
          "text": [
            "Reconstruction error (MSE): 0.03167802384320428\n",
            "Latents Shape: (500, 4096)\n",
            "First Reduction Shape: (500, 200)\n",
            "Second Reduction Shape: (500, 2)\n",
            "Accuracy: 0.74\n",
            "[13/35] checkpoints/checkpoint_130.pth\n"
          ]
        },
        {
          "output_type": "stream",
          "name": "stderr",
          "text": [
            "/usr/local/lib/python3.10/dist-packages/sklearn/cluster/_kmeans.py:870: FutureWarning: The default value of `n_init` will change from 3 to 'auto' in 1.4. Set the value of `n_init` explicitly to suppress the warning\n",
            "  warnings.warn(\n"
          ]
        },
        {
          "output_type": "stream",
          "name": "stdout",
          "text": [
            "Reconstruction error (MSE): 0.02998695738175336\n",
            "Latents Shape: (500, 4096)\n",
            "First Reduction Shape: (500, 200)\n",
            "Second Reduction Shape: (500, 2)\n",
            "Accuracy: 0.766\n",
            "[14/35] checkpoints/checkpoint_140.pth\n"
          ]
        },
        {
          "output_type": "stream",
          "name": "stderr",
          "text": [
            "/usr/local/lib/python3.10/dist-packages/sklearn/cluster/_kmeans.py:870: FutureWarning: The default value of `n_init` will change from 3 to 'auto' in 1.4. Set the value of `n_init` explicitly to suppress the warning\n",
            "  warnings.warn(\n"
          ]
        },
        {
          "output_type": "stream",
          "name": "stdout",
          "text": [
            "Reconstruction error (MSE): 0.02945326919181674\n",
            "Latents Shape: (500, 4096)\n",
            "First Reduction Shape: (500, 200)\n",
            "Second Reduction Shape: (500, 2)\n",
            "Accuracy: 0.77\n",
            "[15/35] checkpoints/checkpoint_150.pth\n"
          ]
        },
        {
          "output_type": "stream",
          "name": "stderr",
          "text": [
            "/usr/local/lib/python3.10/dist-packages/sklearn/cluster/_kmeans.py:870: FutureWarning: The default value of `n_init` will change from 3 to 'auto' in 1.4. Set the value of `n_init` explicitly to suppress the warning\n",
            "  warnings.warn(\n"
          ]
        },
        {
          "output_type": "stream",
          "name": "stdout",
          "text": [
            "Reconstruction error (MSE): 0.02803584476545745\n",
            "Latents Shape: (500, 4096)\n",
            "First Reduction Shape: (500, 200)\n",
            "Second Reduction Shape: (500, 2)\n",
            "Accuracy: 0.712\n",
            "[16/35] checkpoints/checkpoint_160.pth\n"
          ]
        },
        {
          "output_type": "stream",
          "name": "stderr",
          "text": [
            "/usr/local/lib/python3.10/dist-packages/sklearn/cluster/_kmeans.py:870: FutureWarning: The default value of `n_init` will change from 3 to 'auto' in 1.4. Set the value of `n_init` explicitly to suppress the warning\n",
            "  warnings.warn(\n"
          ]
        },
        {
          "output_type": "stream",
          "name": "stdout",
          "text": [
            "Reconstruction error (MSE): 0.027961518418555167\n",
            "Latents Shape: (500, 4096)\n",
            "First Reduction Shape: (500, 200)\n",
            "Second Reduction Shape: (500, 2)\n",
            "Accuracy: 0.734\n",
            "[17/35] checkpoints/checkpoint_170.pth\n"
          ]
        },
        {
          "output_type": "stream",
          "name": "stderr",
          "text": [
            "/usr/local/lib/python3.10/dist-packages/sklearn/cluster/_kmeans.py:870: FutureWarning: The default value of `n_init` will change from 3 to 'auto' in 1.4. Set the value of `n_init` explicitly to suppress the warning\n",
            "  warnings.warn(\n"
          ]
        },
        {
          "output_type": "stream",
          "name": "stdout",
          "text": [
            "Reconstruction error (MSE): 0.026999528155607334\n",
            "Latents Shape: (500, 4096)\n",
            "First Reduction Shape: (500, 200)\n",
            "Second Reduction Shape: (500, 2)\n",
            "Accuracy: 0.736\n",
            "[18/35] checkpoints/checkpoint_180.pth\n"
          ]
        },
        {
          "output_type": "stream",
          "name": "stderr",
          "text": [
            "/usr/local/lib/python3.10/dist-packages/sklearn/cluster/_kmeans.py:870: FutureWarning: The default value of `n_init` will change from 3 to 'auto' in 1.4. Set the value of `n_init` explicitly to suppress the warning\n",
            "  warnings.warn(\n"
          ]
        },
        {
          "output_type": "stream",
          "name": "stdout",
          "text": [
            "Reconstruction error (MSE): 0.025769948230070228\n",
            "Latents Shape: (500, 4096)\n",
            "First Reduction Shape: (500, 200)\n",
            "Second Reduction Shape: (500, 2)\n",
            "Accuracy: 0.724\n",
            "[19/35] checkpoints/checkpoint_190.pth\n"
          ]
        },
        {
          "output_type": "stream",
          "name": "stderr",
          "text": [
            "/usr/local/lib/python3.10/dist-packages/sklearn/cluster/_kmeans.py:870: FutureWarning: The default value of `n_init` will change from 3 to 'auto' in 1.4. Set the value of `n_init` explicitly to suppress the warning\n",
            "  warnings.warn(\n"
          ]
        },
        {
          "output_type": "stream",
          "name": "stdout",
          "text": [
            "Reconstruction error (MSE): 0.025315289721769444\n",
            "Latents Shape: (500, 4096)\n",
            "First Reduction Shape: (500, 200)\n",
            "Second Reduction Shape: (500, 2)\n",
            "Accuracy: 0.766\n",
            "[20/35] checkpoints/checkpoint_200.pth\n"
          ]
        },
        {
          "output_type": "stream",
          "name": "stderr",
          "text": [
            "/usr/local/lib/python3.10/dist-packages/sklearn/cluster/_kmeans.py:870: FutureWarning: The default value of `n_init` will change from 3 to 'auto' in 1.4. Set the value of `n_init` explicitly to suppress the warning\n",
            "  warnings.warn(\n"
          ]
        },
        {
          "output_type": "stream",
          "name": "stdout",
          "text": [
            "Reconstruction error (MSE): 0.02497691124560786\n",
            "Latents Shape: (500, 4096)\n",
            "First Reduction Shape: (500, 200)\n",
            "Second Reduction Shape: (500, 2)\n",
            "Accuracy: 0.774\n",
            "[21/35] checkpoints/checkpoint_210.pth\n"
          ]
        },
        {
          "output_type": "stream",
          "name": "stderr",
          "text": [
            "/usr/local/lib/python3.10/dist-packages/sklearn/cluster/_kmeans.py:870: FutureWarning: The default value of `n_init` will change from 3 to 'auto' in 1.4. Set the value of `n_init` explicitly to suppress the warning\n",
            "  warnings.warn(\n"
          ]
        },
        {
          "output_type": "stream",
          "name": "stdout",
          "text": [
            "Reconstruction error (MSE): 0.024257927978740018\n",
            "Latents Shape: (500, 4096)\n",
            "First Reduction Shape: (500, 200)\n",
            "Second Reduction Shape: (500, 2)\n",
            "Accuracy: 0.766\n",
            "[22/35] checkpoints/checkpoint_220.pth\n"
          ]
        },
        {
          "output_type": "stream",
          "name": "stderr",
          "text": [
            "/usr/local/lib/python3.10/dist-packages/sklearn/cluster/_kmeans.py:870: FutureWarning: The default value of `n_init` will change from 3 to 'auto' in 1.4. Set the value of `n_init` explicitly to suppress the warning\n",
            "  warnings.warn(\n"
          ]
        },
        {
          "output_type": "stream",
          "name": "stdout",
          "text": [
            "Reconstruction error (MSE): 0.02373725133783677\n",
            "Latents Shape: (500, 4096)\n",
            "First Reduction Shape: (500, 200)\n",
            "Second Reduction Shape: (500, 2)\n",
            "Accuracy: 0.7\n",
            "[23/35] checkpoints/checkpoint_230.pth\n"
          ]
        },
        {
          "output_type": "stream",
          "name": "stderr",
          "text": [
            "/usr/local/lib/python3.10/dist-packages/sklearn/cluster/_kmeans.py:870: FutureWarning: The default value of `n_init` will change from 3 to 'auto' in 1.4. Set the value of `n_init` explicitly to suppress the warning\n",
            "  warnings.warn(\n"
          ]
        },
        {
          "output_type": "stream",
          "name": "stdout",
          "text": [
            "Reconstruction error (MSE): 0.023147967721901686\n",
            "Latents Shape: (500, 4096)\n",
            "First Reduction Shape: (500, 200)\n",
            "Second Reduction Shape: (500, 2)\n",
            "Accuracy: 0.786\n",
            "[24/35] checkpoints/checkpoint_240.pth\n"
          ]
        },
        {
          "output_type": "stream",
          "name": "stderr",
          "text": [
            "/usr/local/lib/python3.10/dist-packages/sklearn/cluster/_kmeans.py:870: FutureWarning: The default value of `n_init` will change from 3 to 'auto' in 1.4. Set the value of `n_init` explicitly to suppress the warning\n",
            "  warnings.warn(\n"
          ]
        },
        {
          "output_type": "stream",
          "name": "stdout",
          "text": [
            "Reconstruction error (MSE): 0.023306868927151548\n",
            "Latents Shape: (500, 4096)\n",
            "First Reduction Shape: (500, 200)\n",
            "Second Reduction Shape: (500, 2)\n",
            "Accuracy: 0.742\n",
            "[25/35] checkpoints/checkpoint_250.pth\n"
          ]
        },
        {
          "output_type": "stream",
          "name": "stderr",
          "text": [
            "/usr/local/lib/python3.10/dist-packages/sklearn/cluster/_kmeans.py:870: FutureWarning: The default value of `n_init` will change from 3 to 'auto' in 1.4. Set the value of `n_init` explicitly to suppress the warning\n",
            "  warnings.warn(\n"
          ]
        },
        {
          "output_type": "stream",
          "name": "stdout",
          "text": [
            "Reconstruction error (MSE): 0.02236099218854717\n",
            "Latents Shape: (500, 4096)\n",
            "First Reduction Shape: (500, 200)\n",
            "Second Reduction Shape: (500, 2)\n",
            "Accuracy: 0.784\n",
            "[26/35] checkpoints/checkpoint_260.pth\n"
          ]
        },
        {
          "output_type": "stream",
          "name": "stderr",
          "text": [
            "/usr/local/lib/python3.10/dist-packages/sklearn/cluster/_kmeans.py:870: FutureWarning: The default value of `n_init` will change from 3 to 'auto' in 1.4. Set the value of `n_init` explicitly to suppress the warning\n",
            "  warnings.warn(\n"
          ]
        },
        {
          "output_type": "stream",
          "name": "stdout",
          "text": [
            "Reconstruction error (MSE): 0.022174589858335605\n",
            "Latents Shape: (500, 4096)\n",
            "First Reduction Shape: (500, 200)\n",
            "Second Reduction Shape: (500, 2)\n",
            "Accuracy: 0.75\n",
            "[27/35] checkpoints/checkpoint_270.pth\n"
          ]
        },
        {
          "output_type": "stream",
          "name": "stderr",
          "text": [
            "/usr/local/lib/python3.10/dist-packages/sklearn/cluster/_kmeans.py:870: FutureWarning: The default value of `n_init` will change from 3 to 'auto' in 1.4. Set the value of `n_init` explicitly to suppress the warning\n",
            "  warnings.warn(\n"
          ]
        },
        {
          "output_type": "stream",
          "name": "stdout",
          "text": [
            "Reconstruction error (MSE): 0.022076625889422847\n",
            "Latents Shape: (500, 4096)\n",
            "First Reduction Shape: (500, 200)\n",
            "Second Reduction Shape: (500, 2)\n",
            "Accuracy: 0.776\n",
            "[28/35] checkpoints/checkpoint_280.pth\n"
          ]
        },
        {
          "output_type": "stream",
          "name": "stderr",
          "text": [
            "/usr/local/lib/python3.10/dist-packages/sklearn/cluster/_kmeans.py:870: FutureWarning: The default value of `n_init` will change from 3 to 'auto' in 1.4. Set the value of `n_init` explicitly to suppress the warning\n",
            "  warnings.warn(\n"
          ]
        },
        {
          "output_type": "stream",
          "name": "stdout",
          "text": [
            "Reconstruction error (MSE): 0.02130909498065126\n",
            "Latents Shape: (500, 4096)\n",
            "First Reduction Shape: (500, 200)\n",
            "Second Reduction Shape: (500, 2)\n",
            "Accuracy: 0.798\n",
            "[29/35] checkpoints/checkpoint_290.pth\n"
          ]
        },
        {
          "output_type": "stream",
          "name": "stderr",
          "text": [
            "/usr/local/lib/python3.10/dist-packages/sklearn/cluster/_kmeans.py:870: FutureWarning: The default value of `n_init` will change from 3 to 'auto' in 1.4. Set the value of `n_init` explicitly to suppress the warning\n",
            "  warnings.warn(\n"
          ]
        },
        {
          "output_type": "stream",
          "name": "stdout",
          "text": [
            "Reconstruction error (MSE): 0.021188587441163906\n",
            "Latents Shape: (500, 4096)\n",
            "First Reduction Shape: (500, 200)\n",
            "Second Reduction Shape: (500, 2)\n",
            "Accuracy: 0.786\n",
            "[30/35] checkpoints/checkpoint_300.pth\n"
          ]
        },
        {
          "output_type": "stream",
          "name": "stderr",
          "text": [
            "/usr/local/lib/python3.10/dist-packages/sklearn/cluster/_kmeans.py:870: FutureWarning: The default value of `n_init` will change from 3 to 'auto' in 1.4. Set the value of `n_init` explicitly to suppress the warning\n",
            "  warnings.warn(\n"
          ]
        },
        {
          "output_type": "stream",
          "name": "stdout",
          "text": [
            "Reconstruction error (MSE): 0.020592185403786455\n",
            "Latents Shape: (500, 4096)\n",
            "First Reduction Shape: (500, 200)\n",
            "Second Reduction Shape: (500, 2)\n",
            "Accuracy: 0.772\n",
            "[31/35] checkpoints/checkpoint_310.pth\n"
          ]
        },
        {
          "output_type": "stream",
          "name": "stderr",
          "text": [
            "/usr/local/lib/python3.10/dist-packages/sklearn/cluster/_kmeans.py:870: FutureWarning: The default value of `n_init` will change from 3 to 'auto' in 1.4. Set the value of `n_init` explicitly to suppress the warning\n",
            "  warnings.warn(\n"
          ]
        },
        {
          "output_type": "stream",
          "name": "stdout",
          "text": [
            "Reconstruction error (MSE): 0.02089347018447577\n",
            "Latents Shape: (500, 4096)\n",
            "First Reduction Shape: (500, 200)\n",
            "Second Reduction Shape: (500, 2)\n",
            "Accuracy: 0.778\n",
            "[32/35] checkpoints/checkpoint_320.pth\n"
          ]
        },
        {
          "output_type": "stream",
          "name": "stderr",
          "text": [
            "/usr/local/lib/python3.10/dist-packages/sklearn/cluster/_kmeans.py:870: FutureWarning: The default value of `n_init` will change from 3 to 'auto' in 1.4. Set the value of `n_init` explicitly to suppress the warning\n",
            "  warnings.warn(\n"
          ]
        },
        {
          "output_type": "stream",
          "name": "stdout",
          "text": [
            "Reconstruction error (MSE): 0.020115733688952878\n",
            "Latents Shape: (500, 4096)\n",
            "First Reduction Shape: (500, 200)\n",
            "Second Reduction Shape: (500, 2)\n",
            "Accuracy: 0.784\n",
            "[33/35] checkpoints/checkpoint_330.pth\n"
          ]
        },
        {
          "output_type": "stream",
          "name": "stderr",
          "text": [
            "/usr/local/lib/python3.10/dist-packages/sklearn/cluster/_kmeans.py:870: FutureWarning: The default value of `n_init` will change from 3 to 'auto' in 1.4. Set the value of `n_init` explicitly to suppress the warning\n",
            "  warnings.warn(\n"
          ]
        },
        {
          "output_type": "stream",
          "name": "stdout",
          "text": [
            "Reconstruction error (MSE): 0.019650938679190242\n",
            "Latents Shape: (500, 4096)\n",
            "First Reduction Shape: (500, 200)\n",
            "Second Reduction Shape: (500, 2)\n",
            "Accuracy: 0.814\n",
            "[34/35] checkpoints/checkpoint_340.pth\n"
          ]
        },
        {
          "output_type": "stream",
          "name": "stderr",
          "text": [
            "/usr/local/lib/python3.10/dist-packages/sklearn/cluster/_kmeans.py:870: FutureWarning: The default value of `n_init` will change from 3 to 'auto' in 1.4. Set the value of `n_init` explicitly to suppress the warning\n",
            "  warnings.warn(\n"
          ]
        },
        {
          "output_type": "stream",
          "name": "stdout",
          "text": [
            "Reconstruction error (MSE): 0.019600967762516994\n",
            "Latents Shape: (500, 4096)\n",
            "First Reduction Shape: (500, 200)\n",
            "Second Reduction Shape: (500, 2)\n",
            "Accuracy: 0.744\n",
            "[35/35] checkpoints/checkpoint_350.pth\n"
          ]
        },
        {
          "output_type": "stream",
          "name": "stderr",
          "text": [
            "/usr/local/lib/python3.10/dist-packages/sklearn/cluster/_kmeans.py:870: FutureWarning: The default value of `n_init` will change from 3 to 'auto' in 1.4. Set the value of `n_init` explicitly to suppress the warning\n",
            "  warnings.warn(\n"
          ]
        },
        {
          "output_type": "stream",
          "name": "stdout",
          "text": [
            "Reconstruction error (MSE): 0.01938963145835727\n",
            "Latents Shape: (500, 4096)\n",
            "First Reduction Shape: (500, 200)\n",
            "Second Reduction Shape: (500, 2)\n",
            "Accuracy: 0.774\n"
          ]
        },
        {
          "output_type": "stream",
          "name": "stderr",
          "text": [
            "/usr/local/lib/python3.10/dist-packages/sklearn/cluster/_kmeans.py:870: FutureWarning: The default value of `n_init` will change from 3 to 'auto' in 1.4. Set the value of `n_init` explicitly to suppress the warning\n",
            "  warnings.warn(\n"
          ]
        }
      ]
    },
    {
      "cell_type": "code",
      "metadata": {
        "id": "_vIXEr5jsFUh",
        "colab": {
          "base_uri": "https://localhost:8080/",
          "height": 545
        },
        "outputId": "870980c3-b9e9-48d8-da45-07e3e6d20302"
      },
      "source": [
        "ps = list(zip(*points))\n",
        "plt.figure(figsize=(6,6))\n",
        "plt.subplot(211, title='Reconstruction error (MSE)').plot(ps[0])\n",
        "plt.subplot(212, title='Accuracy (val)').plot(ps[1])\n",
        "plt.show()"
      ],
      "execution_count": null,
      "outputs": [
        {
          "output_type": "display_data",
          "data": {
            "text/plain": [
              "<Figure size 600x600 with 2 Axes>"
            ],
            "image/png": "[encoded data removed]"
          },
          "metadata": {}
        }
      ]
    },
    {
      "cell_type": "code",
      "metadata": {
        "id": "Zg2Pr4yD-6gZ"
      },
      "source": [],
      "execution_count": null,
      "outputs": []
    }
  ]
}